{
 "cells": [
  {
   "cell_type": "code",
   "execution_count": 1,
   "metadata": {},
   "outputs": [],
   "source": [
    "import numpy as np\n",
    "from sklearn.model_selection import train_test_split\n",
    "import matplotlib.pyplot as plt\n",
    "from NN_models import *"
   ]
  },
  {
   "cell_type": "code",
   "execution_count": 2,
   "metadata": {},
   "outputs": [],
   "source": [
    "data = np.genfromtxt('heart.csv',delimiter=',')\n",
    "\n",
    "X=np.array((data[1:,:-1]))\n",
    "Y=np.array((data[1:,-1]))\n",
    "Y = np.reshape(Y,(Y.shape[0],1))\n",
    "\n",
    "train_X, test_X, train_Y, test_Y = train_test_split(X,Y,test_size=0.2,random_state=0)\n",
    "train_X=train_X.T\n",
    "test_X=test_X.T\n",
    "train_Y=train_Y.T\n",
    "test_Y=test_Y.T"
   ]
  },
  {
   "cell_type": "code",
   "execution_count": 3,
   "metadata": {},
   "outputs": [],
   "source": [
    "layer_dims=[13,5,3,1]"
   ]
  },
  {
   "cell_type": "code",
   "execution_count": 4,
   "metadata": {},
   "outputs": [
    {
     "name": "stdout",
     "output_type": "stream",
     "text": [
      "It is a 3 layer neural network with 2 hidden layers\n",
      "Cost after iteration 0: 0.693149\n",
      "Cost after iteration 100: 0.692073\n",
      "Cost after iteration 200: 0.691334\n",
      "Cost after iteration 300: 0.690826\n",
      "Cost after iteration 400: 0.690476\n",
      "Cost after iteration 500: 0.690233\n",
      "Cost after iteration 600: 0.690064\n",
      "Cost after iteration 700: 0.689945\n",
      "Cost after iteration 800: 0.689858\n",
      "Cost after iteration 900: 0.689792\n",
      "Cost after iteration 1000: 0.689738\n",
      "Cost after iteration 1100: 0.689687\n",
      "Cost after iteration 1200: 0.689631\n",
      "Cost after iteration 1300: 0.689559\n",
      "Cost after iteration 1400: 0.689453\n",
      "Cost after iteration 1500: 0.689276\n",
      "Cost after iteration 1600: 0.688948\n",
      "Cost after iteration 1700: 0.688258\n",
      "Cost after iteration 1800: 0.686580\n",
      "Cost after iteration 1900: 0.681965\n",
      "Cost after iteration 2000: 0.669124\n",
      "Cost after iteration 2100: 0.638028\n",
      "Cost after iteration 2200: 0.636412\n",
      "Cost after iteration 2300: 0.608326\n",
      "Cost after iteration 2400: 0.608740\n"
     ]
    }
   ],
   "source": [
    "parameters = L_layer_model(train_X, train_Y, layer_dims, num_iterations = 2500, print_cost = True,act=\"relu\")"
   ]
  },
  {
   "cell_type": "code",
   "execution_count": 5,
   "metadata": {},
   "outputs": [
    {
     "name": "stdout",
     "output_type": "stream",
     "text": [
      "Accuracy: 0.6652892561983471\n"
     ]
    }
   ],
   "source": [
    "pred_train = predict(train_X, train_Y, parameters)"
   ]
  },
  {
   "cell_type": "code",
   "execution_count": 6,
   "metadata": {},
   "outputs": [
    {
     "name": "stdout",
     "output_type": "stream",
     "text": [
      "Accuracy: 0.7049180327868854\n"
     ]
    }
   ],
   "source": [
    "pred_test = predict(test_X, test_Y, parameters)"
   ]
  },
  {
   "cell_type": "code",
   "execution_count": null,
   "metadata": {},
   "outputs": [],
   "source": []
  },
  {
   "cell_type": "code",
   "execution_count": null,
   "metadata": {},
   "outputs": [],
   "source": []
  },
  {
   "cell_type": "code",
   "execution_count": null,
   "metadata": {},
   "outputs": [],
   "source": [
    "def logistic_regression():"
   ]
  },
  {
   "cell_type": "code",
   "execution_count": null,
   "metadata": {},
   "outputs": [],
   "source": [
    "def one_hidden_layer():"
   ]
  },
  {
   "cell_type": "code",
   "execution_count": null,
   "metadata": {},
   "outputs": [],
   "source": [
    "def two_hidden_layer():"
   ]
  },
  {
   "cell_type": "code",
   "execution_count": null,
   "metadata": {},
   "outputs": [],
   "source": [
    "def L_layer_model():\n",
    "    "
   ]
  }
 ],
 "metadata": {
  "kernelspec": {
   "display_name": "Python 3",
   "language": "python",
   "name": "python3"
  },
  "language_info": {
   "codemirror_mode": {
    "name": "ipython",
    "version": 3
   },
   "file_extension": ".py",
   "mimetype": "text/x-python",
   "name": "python",
   "nbconvert_exporter": "python",
   "pygments_lexer": "ipython3",
   "version": "3.7.6"
  }
 },
 "nbformat": 4,
 "nbformat_minor": 2
}
